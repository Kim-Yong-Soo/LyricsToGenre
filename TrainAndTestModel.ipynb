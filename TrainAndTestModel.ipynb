{
 "cells": [
  {
   "cell_type": "markdown",
   "id": "4aa7c7b0-1e98-4ede-9687-374ff598ceea",
   "metadata": {},
   "source": [
    "##### 20215129 김용수\n",
    "## 대화를 장르로\n",
    "#### 실행만 진행할 경우 맨 아래의 테스트 칸만 실행해주세요 (크롤링 없이 모델 불러와 실행)"
   ]
  },
  {
   "cell_type": "markdown",
   "id": "86d06843-622d-4f1f-b6b6-61392c9ce78e",
   "metadata": {},
   "source": [
    "# 크롤링을 통한 한글 노래 데이터 생성"
   ]
  },
  {
   "cell_type": "markdown",
   "id": "3afabf8b-80a8-4ef5-884b-0486d62cca4f",
   "metadata": {},
   "source": [
    "#### 음악 스트리밍 사이트 \"Bugs\"에서 장르별 당일 TOP 100 노래들의 가사 링크를 크롤링 해옵니다."
   ]
  },
  {
   "cell_type": "code",
   "execution_count": 1,
   "id": "653189ea-6108-4c60-8aee-b29b5cf972b8",
   "metadata": {},
   "outputs": [
    {
     "name": "stdout",
     "output_type": "stream",
     "text": [
      "이미 크롤링을 한 기록이 있습니다. 다시 하기 위해서는 기존 크롤링 파일의 이름을 수정 또는 삭제해주세요.\n"
     ]
    }
   ],
   "source": [
    "from urllib.request import urlopen, Request\n",
    "from bs4 import BeautifulSoup\n",
    "import time, random, os\n",
    "\n",
    "if not os.path.exists(\"genre_lyrics.txt\") and not (os.path.exists(os.getcwd() + \"\\\\lyrics_korean_model.pt\") or os.path.exists(os.getcwd() + \"\\\\lyrics_english_model.pt\")):\n",
    "    song_pages = []\n",
    "    genres = [\"ballad\", \"dance\", \"folk\", \"idol\", \"rnh\", \"rns\", \"elec\", \"rock\", \"adultkpop\"]\n",
    "\n",
    "    for genre in genres:\n",
    "        url = f\"https://music.bugs.co.kr/genre/chart/kpop/{genre}/total/day\"\n",
    "        req = Request(url)\n",
    "        req.add_header('User-Agent', 'Mozilla/5.0 (Windows NT 10.0; Win64; x64) AppleWebKit/537.36 (KHTML, like Gecko) Chrome/80.0.3987.122 Safari/537.36')\n",
    "        html = urlopen(req)\n",
    "        bsObj = BeautifulSoup(html, \"html.parser\")\n",
    "\n",
    "        song_page_urls = []\n",
    "        for cover in bsObj.body.find_all('a', {'class' : 'trackInfo'}):\n",
    "            link = cover.get('href').split(\"?\")[0]\n",
    "            song_page_urls.append(link)\n",
    "\n",
    "        time.sleep(random.uniform(1, 3))\n",
    "        song_pages.append(song_page_urls)\n",
    "        print(genre, \"완료\")\n",
    "else:\n",
    "    print(\"이미 크롤링을 한 기록이 있습니다. 다시 하기 위해서는 기존 크롤링 파일의 이름을 수정 또는 삭제해주세요.\")"
   ]
  },
  {
   "cell_type": "markdown",
   "id": "1766b6b0-5cd2-4277-9a05-589dae45465a",
   "metadata": {},
   "source": [
    "#### 위의 각 노래 별 가사 링크에 접속하여 가사를 크롤링 해 하나의 배열로 만듭니다.\n",
    "#### 성인 인증이 필요한 곡이거나 가사가 없는 곡의 경우 포함되지 않게 합니다."
   ]
  },
  {
   "cell_type": "code",
   "execution_count": 2,
   "id": "aa6252a6-5b36-4bef-8d35-8c8b8c1eb3c6",
   "metadata": {
    "tags": []
   },
   "outputs": [
    {
     "name": "stdout",
     "output_type": "stream",
     "text": [
      "이미 크롤링을 한 기록이 있습니다. 다시 하기 위해서는 기존 크롤링 파일의 이름을 수정 또는 삭제해주세요.\n"
     ]
    }
   ],
   "source": [
    "if not os.path.exists(\"genre_lyrics.txt\") and not (os.path.exists(os.getcwd() + \"\\\\lyrics_korean_model.pt\") or os.path.exists(os.getcwd() + \"\\\\lyrics_english_model.pt\")):\n",
    "    genre_lyrics = []\n",
    "    for genre_idx, song_urls in enumerate(song_pages):\n",
    "        lyrics = []\n",
    "        for idx, link in enumerate(song_urls):\n",
    "            req2 = Request(link)\n",
    "            req2.add_header('User-Agent', 'Mozilla/5.0 (Windows NT 10.0; Win64; x64) AppleWebKit/537.36 (KHTML, like Gecko) Chrome/80.0.3987.122 Safari/537.36')\n",
    "            html2 = urlopen(req2)\n",
    "            bsObj2 = BeautifulSoup(html2, \"html.parser\")\n",
    "            obj2 = bsObj2.find('div', {'class' : 'lyricsContainer'})\n",
    "            if obj2.find(\"xmp\") != None:\n",
    "                lyric = obj2.select('xmp')[0].text\n",
    "                lyrics.append([r for r in [result.strip() for result in lyric.split(\"\\r\\n\" if \"\\r\\n\" in lyric else \"\\n\")] if r != \"\" and r != \"⠀\"])\n",
    "            if idx%10 == random.uniform(5, 7):\n",
    "                time.sleep(random.uniform(1, 3))\n",
    "            if idx%50 == 0:\n",
    "                print(genres[genre_idx], \":\", idx)\n",
    "        genre_lyrics.append(lyrics)\n",
    "        print(genres[genre_idx], \"완료\")\n",
    "else:\n",
    "    print(\"이미 크롤링을 한 기록이 있습니다. 다시 하기 위해서는 기존 크롤링 파일의 이름을 수정 또는 삭제해주세요.\")"
   ]
  },
  {
   "cell_type": "markdown",
   "id": "61e6d76d-dba0-467a-b098-ac7b948044d0",
   "metadata": {},
   "source": [
    "#### 각 장르별 노래 개수를 보면 다른 장르들은 98이나 100으로 비슷하지만, elec 혼자 77인 것을 확인할 수 있습니다.\n",
    "#### 이는 위에서 가사가 없는 곡의 경우 포함하지 않았기에 그렇습니다."
   ]
  },
  {
   "cell_type": "code",
   "execution_count": 3,
   "id": "6899285c-1ae5-4614-ba51-f1a6bfb09940",
   "metadata": {
    "tags": []
   },
   "outputs": [],
   "source": [
    "if not os.path.exists(\"genre_lyrics.txt\") and not (os.path.exists(os.getcwd() + \"\\\\lyrics_korean_model.pt\") or os.path.exists(os.getcwd() + \"\\\\lyrics_english_model.pt\")):\n",
    "    print(genre_lyrics[0][:3])\n",
    "    for l in genre_lyrics:\n",
    "        print(len(l))"
   ]
  },
  {
   "cell_type": "markdown",
   "id": "d82f9b2e-b0cf-41cb-b5f4-6ce9580975dc",
   "metadata": {},
   "source": [
    "#### 크롤링 해온 장르별 노래 가사들을 txt 파일로 저장하여 다음에도 불러와 사용 가능하게 합니다."
   ]
  },
  {
   "cell_type": "code",
   "execution_count": 4,
   "id": "92a6c6cf-aaa5-47f2-b2c2-d2ccd60ee5b0",
   "metadata": {},
   "outputs": [
    {
     "name": "stdout",
     "output_type": "stream",
     "text": [
      "이미 크롤링을 한 기록이 있습니다. 다시 하기 위해서는 기존 크롤링 파일의 이름을 수정 또는 삭제해주세요.\n"
     ]
    }
   ],
   "source": [
    "if not os.path.exists(\"genre_lyrics.txt\") and not (os.path.exists(os.getcwd() + \"\\\\lyrics_korean_model.pt\") or os.path.exists(os.getcwd() + \"\\\\lyrics_english_model.pt\")):\n",
    "    file_name = \"genre_lyrics.txt\"\n",
    "\n",
    "    with open(file_name, \"w\", encoding=\"utf-8\") as file:\n",
    "        for genre_idx, lyrics in enumerate(genre_lyrics):\n",
    "            for lyrics_idx, lyric in enumerate(lyrics):\n",
    "                file.write(\"\\n\".join(map(str, lyric)) + \"\\n\\n\")\n",
    "            file.write(\"Genre_End\\n\\n\")\n",
    "    print(\"done\")\n",
    "else:\n",
    "    print(\"이미 크롤링을 한 기록이 있습니다. 다시 하기 위해서는 기존 크롤링 파일의 이름을 수정 또는 삭제해주세요.\")"
   ]
  },
  {
   "cell_type": "markdown",
   "id": "92f38a3c-e720-425d-be15-9e98fa3c6661",
   "metadata": {},
   "source": [
    "# 한글 모델 생성"
   ]
  },
  {
   "cell_type": "markdown",
   "id": "5abb3904-e73f-46d7-8cc4-3ed37cb62529",
   "metadata": {},
   "source": [
    "#### 위에서 크롤링한 가사들을 불러옵니다."
   ]
  },
  {
   "cell_type": "code",
   "execution_count": 5,
   "id": "c7193c68-60ca-43f6-b88c-09e99234e249",
   "metadata": {},
   "outputs": [],
   "source": [
    "import torch, re, os\n",
    "import numpy as np\n",
    "from os import path\n",
    "import matplotlib.pyplot as plt\n",
    "from sklearn.model_selection import train_test_split\n",
    "from transformers import BertTokenizer, BertForSequenceClassification\n",
    "from datetime import datetime\n",
    "from transformers import AutoTokenizer, AutoModel\n",
    "\n",
    "np.random.seed(42)"
   ]
  },
  {
   "cell_type": "code",
   "execution_count": 6,
   "id": "2ae15448-65e8-43bd-8bd4-47734cd109ad",
   "metadata": {
    "tags": []
   },
   "outputs": [],
   "source": [
    "file_name = \"genre_lyrics.txt\"\n",
    "\n",
    "genres = [\"ballad\", \"dance\", \"folk\", \"idol\", \"rnh\", \"rns\", \"elec\", \"rock\", \"adultkpop\"]\n",
    "genre_lyrics = []\n",
    "current_lyrics = []\n",
    "\n",
    "with open(file_name, \"r\", encoding=\"utf-8\") as file:\n",
    "    current_genre = []\n",
    "    lyric = []\n",
    "    pre = False\n",
    "    for line in file:\n",
    "        if line.strip() == \"Genre_End\":\n",
    "            genre_lyrics.append(current_genre)\n",
    "            current_genre = []\n",
    "            pre = True\n",
    "        elif line.strip() == \"\" and not pre:\n",
    "            current_genre.append(lyric)\n",
    "            lyric = []\n",
    "        elif line.strip() == \"\":\n",
    "            pre = False\n",
    "        else:\n",
    "            lyric.append(line.strip())\n",
    "\n",
    "# 확인\n",
    "# print(genre_lyrics)"
   ]
  },
  {
   "cell_type": "markdown",
   "id": "429c8685-7f9c-457a-8702-3760fbaded9e",
   "metadata": {},
   "source": [
    "#### 노래별 문장마다 나눠져 있던 가사를 합쳐 하나의 문장으로 만들어 불러옵니다.\n",
    "#### 해당 과정 중 노래별 중복되는 문장을 하나로 합치고, 한글만을 뽑아 한 문장으로 합니다. "
   ]
  },
  {
   "cell_type": "code",
   "execution_count": 7,
   "id": "1d687b12-ff4a-43cf-927f-8928ace59cb4",
   "metadata": {},
   "outputs": [
    {
     "name": "stdout",
     "output_type": "stream",
     "text": [
      "873 873\n"
     ]
    }
   ],
   "source": [
    "lyrics_flatten = []\n",
    "labels_flatten = []\n",
    "for idx_g, g in enumerate(genre_lyrics):\n",
    "    for idx_s, s in enumerate(g):\n",
    "        lyrics_flatten.append(re.sub(f\"[^가-힣| |]+\", \"\", \" \".join(set(s))))\n",
    "        labels_flatten.append(genres[idx_g]) \n",
    "print(len(lyrics_flatten), len(labels_flatten))"
   ]
  },
  {
   "cell_type": "code",
   "execution_count": 8,
   "id": "e6cc6002-6563-4c95-a207-21e771c7aee0",
   "metadata": {},
   "outputs": [
    {
     "data": {
      "text/plain": [
       "['만나지긴 할까 어떻게 서로를 기억해줄까 우릴 울리려 떠나간건 아냐 너도 같을거야 그때에 터트릴 웃음을 지금 질 수 있잖아 그걸로 충분해 서로 다른 그곳에서 고요를 거쳐 이제야 추억이 된 기억들 아직 타는 별 과거의 빛은 흐르고 그걸로 충분해 서로 다른 곳에서 몇 번의 사막을 거쳐 몇 번의 우기를 거쳐 잠시라도 우리 따뜻한 시간을 갖는다면 십년쯤 흘렀다고 그렇게 생각해봐 떠나간 모든 것은 시간따라 갔을 뿐 십년쯤 흘러가면 우린 어떻게 될까 가까스레 잠이 들다 애쓰던 잠은 떠났고',\n",
       " '새로 사귄 친구 함께 힘들단 걸 알지만 난생처음 준비한 선물 손을 잡고 늘 걷던 거리에 영영 다신 못 본다 해도 잠시라도 이 행복을 느껴서 고마웠다고 가까스로 본 너의 그 미소들 가보고 싶었던 식당 마주친 눈동자 바뀔까 봐 두려워 나는 사실 그대에게 좋은 사람이 아녜요 말할 수 없을 묘한 감정들이 고맙다는 너의 그 눈물들이 처음 본 네 얼굴 나는 사실 그대에게 좋은 사람이 되고 싶었어 이기적인 거 나도 잘 알아 그대 먼저 헤어지자 말해요 한 번은 널 볼 수 있을까 헤어지자고 말하려 오늘 첫눈을 보다가 문득 고백했던 그 순간 그댈 정말 사랑했다 말해요 그땐 그럴 수밖에 없던 그댈 위한 이 노래가 당신을 영원히 사랑할 테니 너에게 가다가 우리 추억 생각해 봤어 웃음 띤 네 얼굴 보면 시간이 지나고 나면 나는 어린 내게 한 번만 더 기회를 주길 어쩔 수 없을 걸 문득 너의 사진 보겠지 그대 이제 날 떠난다 말해요']"
      ]
     },
     "execution_count": 8,
     "metadata": {},
     "output_type": "execute_result"
    }
   ],
   "source": [
    "lyrics_flatten[:2]"
   ]
  },
  {
   "cell_type": "code",
   "execution_count": 9,
   "id": "459acb77-40b2-4dbc-8333-c5d2a5fa2e46",
   "metadata": {},
   "outputs": [
    {
     "data": {
      "text/plain": [
       "{'adultkpop', 'ballad', 'dance', 'elec', 'folk', 'idol', 'rnh', 'rns', 'rock'}"
      ]
     },
     "execution_count": 9,
     "metadata": {},
     "output_type": "execute_result"
    }
   ],
   "source": [
    "set(labels_flatten)"
   ]
  },
  {
   "cell_type": "markdown",
   "id": "b77969a8-8cb0-419d-8c8f-2f99c6bebb77",
   "metadata": {},
   "source": [
    "# 모델 학습"
   ]
  },
  {
   "cell_type": "code",
   "execution_count": 10,
   "id": "2c77537e-b082-4ec1-84f3-de4bf6a6f77b",
   "metadata": {},
   "outputs": [],
   "source": [
    "lyrics_train, lyrics_test, labels_train, labels_test = train_test_split(lyrics_flatten, labels_flatten, test_size=0.1, shuffle=True, random_state=34)"
   ]
  },
  {
   "cell_type": "code",
   "execution_count": 11,
   "id": "8ddaf69e-6aae-45da-ac75-5ad403e14cd7",
   "metadata": {},
   "outputs": [
    {
     "name": "stdout",
     "output_type": "stream",
     "text": [
      "cuda\n"
     ]
    }
   ],
   "source": [
    "if torch.cuda.is_available():\n",
    "    device = torch.device('cuda')\n",
    "else:\n",
    "    device = torch.device('cpu')\n",
    "print(device)"
   ]
  },
  {
   "cell_type": "markdown",
   "id": "b6ce08c3-57e6-489c-8062-99f81de9a09f",
   "metadata": {},
   "source": [
    "#### HuggingFace의 Transformer 라이브러리를 사용하였습니다. \n",
    "#### 토크나이저는 pre-train 된 beomi/kcbert-base를 불러와 사용했고,\n",
    "#### 장르를 분류하기 위해 BertForSequenceClassfication으로 beomi/kcbert-base를 불러와 모델을 생성하였습니다."
   ]
  },
  {
   "cell_type": "code",
   "execution_count": 12,
   "id": "29773066-6648-496a-a924-f00bb3266df3",
   "metadata": {
    "tags": []
   },
   "outputs": [
    {
     "name": "stdout",
     "output_type": "stream",
     "text": [
      "사전 학습된 모델 불러오기 성공\n"
     ]
    }
   ],
   "source": [
    "# pre = \"skt/kobert-base-v1\"\n",
    "pre = \"beomi/kcbert-base\"\n",
    "\n",
    "# pre-trained word embedding을 불러옵니다.\n",
    "tokenizer_korean = AutoTokenizer.from_pretrained(pre)\n",
    "\n",
    "# 레이블 값들을 숫자로 변환합니다.\n",
    "label_dict_korean = {label: idx for idx, label in enumerate(genres)}\n",
    "label_indices_korean = [label_dict_korean[label] for label in labels_train]\n",
    "\n",
    "# 가사를 토큰화 하면서 모델에 맞는 입력 형식으로 변환합니다.\n",
    "encoded_lyrics = tokenizer_korean.batch_encode_plus(\n",
    "    lyrics_train,\n",
    "    add_special_tokens=True,\n",
    "    padding='longest',\n",
    "    truncation=True,\n",
    "    return_attention_mask=True,\n",
    "    return_tensors='pt'\n",
    ").to(device)\n",
    "\n",
    "# 레이블 값들의 형식을 Tensor로 변환합니다.\n",
    "labels = torch.tensor(label_indices_korean)\n",
    "\n",
    "# 기존 학습한 모델이 있다면 해당 모델을, 아니라면 위에서 지정한 BERT 모델을 불러옵니다.\n",
    "model_path = \"lyrics_korean_model.pt\"\n",
    "if path.exists(os.getcwd() + \"\\\\\" + model_path):\n",
    "    model_korean = BertForSequenceClassification.from_pretrained(\"./\" + model_path)\n",
    "    model_korean.to(device)\n",
    "    print(\"사전 학습된 모델 불러오기 성공\")\n",
    "else:\n",
    "    model_korean = BertForSequenceClassification.from_pretrained(pre, num_labels=len(label_dict_korean))\n",
    "    model_korean.to(device)\n",
    "\n",
    "    # 훈련 모드 설정\n",
    "    model_korean.train()\n",
    "\n",
    "    # 옵티마이저 설정\n",
    "    optimizer = torch.optim.AdamW(model_korean.parameters(), lr=1e-5)\n",
    "\n",
    "    # 훈련\n",
    "    epochs = 20\n",
    "    batch_size = 16\n",
    "    \n",
    "    loss_arr = []\n",
    "\n",
    "    for epoch in range(epochs):\n",
    "        total_loss = 0\n",
    "        print(\"epochs:\", epoch+1, \"시작\")\n",
    "        for i in range(0, len(encoded_lyrics['input_ids']), batch_size):\n",
    "            input_batch = encoded_lyrics['input_ids'][i:i+batch_size].to(device)\n",
    "            label_batch = labels[i:i+batch_size].to(device)\n",
    "            attention_mask = encoded_lyrics['attention_mask'][i:i+batch_size]\n",
    "\n",
    "            optimizer.zero_grad()\n",
    "\n",
    "            outputs = model_korean(input_batch, labels=label_batch, token_type_ids=None, attention_mask=attention_mask)\n",
    "\n",
    "            loss = outputs.loss\n",
    "            total_loss += loss.item()\n",
    "\n",
    "            loss.backward()\n",
    "            torch.nn.utils.clip_grad_norm_(model_korean.parameters(), 1.0)\n",
    "            optimizer.step()\n",
    "\n",
    "        avg_loss = total_loss / len(encoded_lyrics['input_ids'])\n",
    "        loss_arr.append(avg_loss)\n",
    "        print(f'Epoch {epoch + 1} - Loss: {avg_loss}', datetime.now().strftime(\"%H:%M:%S\"))\n",
    "    plt.plot(loss_arr)\n",
    "    plt.show()\n",
    "\n",
    "    # 모델 저장\n",
    "    model_korean.save_pretrained(model_path)"
   ]
  },
  {
   "cell_type": "code",
   "execution_count": 13,
   "id": "5729f76a-10b1-44f3-9181-0fb2447dc760",
   "metadata": {},
   "outputs": [
    {
     "name": "stderr",
     "output_type": "stream",
     "text": [
      "Token indices sequence length is longer than the specified maximum sequence length for this model (340 > 300). Running this sequence through the model will result in indexing errors\n"
     ]
    },
    {
     "name": "stdout",
     "output_type": "stream",
     "text": [
      "정확도 39.8%\n"
     ]
    }
   ],
   "source": [
    "accur_sum = 0\n",
    "for lyric, label in zip(lyrics_test, labels_test):\n",
    "    # 테스트 가사를 토큰화 하면서 모델에 맞는 입력 형식으로 변환합니다.\n",
    "    test_input_ids =  torch.tensor(tokenizer_korean.batch_encode_plus([lyric])['input_ids']).to(device)\n",
    "\n",
    "    # 평가 모드 설정\n",
    "    model_korean.eval()\n",
    "\n",
    "    # 예측\n",
    "    with torch.no_grad():\n",
    "        output = model_korean(test_input_ids[:, :300])\n",
    "\n",
    "    # 결과의 최대값으로 인덱스 예측\n",
    "    predicted_genre_index = torch.argmax(output['logits'], dim=1).item()\n",
    "    predicted_genre = {idx: genre for genre, idx in label_dict_korean.items()}[predicted_genre_index]\n",
    "    if predicted_genre == label:\n",
    "        accur_sum += 1\n",
    "print(\"정확도 {:.1f}%\".format((accur_sum/len(lyrics_test))*100))"
   ]
  },
  {
   "cell_type": "code",
   "execution_count": 14,
   "id": "9feb6680-c861-4112-8ff5-a1a28684e12c",
   "metadata": {},
   "outputs": [],
   "source": [
    "if device == torch.device('cuda'):\n",
    "    torch.cuda.empty_cache()"
   ]
  },
  {
   "cell_type": "markdown",
   "id": "241df4ab-f117-4003-b150-e06b012c2ba6",
   "metadata": {},
   "source": [
    "# 영어 모델 생성"
   ]
  },
  {
   "cell_type": "code",
   "execution_count": 15,
   "id": "b3796d42-189c-4ba4-b848-61e3b7d197b5",
   "metadata": {},
   "outputs": [],
   "source": [
    "import torch, re, os\n",
    "import pandas as pd\n",
    "import numpy as np\n",
    "from os import path\n",
    "import matplotlib.pyplot as plt\n",
    "from datetime import datetime\n",
    "from datasets import load_dataset\n",
    "from sklearn.model_selection import train_test_split\n",
    "from transformers import AutoTokenizer, AutoModel\n",
    "from transformers import BertTokenizer, BertForSequenceClassification\n",
    "\n",
    "np.random.seed(42)"
   ]
  },
  {
   "cell_type": "markdown",
   "id": "33c05af9-730b-4621-8480-3349675c411c",
   "metadata": {},
   "source": [
    "#### 영어 가사 데이터를 불러옵니다."
   ]
  },
  {
   "cell_type": "code",
   "execution_count": 16,
   "id": "23c99d35-f146-4ada-a1f1-5e27de0aba40",
   "metadata": {},
   "outputs": [
    {
     "data": {
      "text/html": [
       "<div>\n",
       "<style scoped>\n",
       "    .dataframe tbody tr th:only-of-type {\n",
       "        vertical-align: middle;\n",
       "    }\n",
       "\n",
       "    .dataframe tbody tr th {\n",
       "        vertical-align: top;\n",
       "    }\n",
       "\n",
       "    .dataframe thead th {\n",
       "        text-align: right;\n",
       "    }\n",
       "</style>\n",
       "<table border=\"1\" class=\"dataframe\">\n",
       "  <thead>\n",
       "    <tr style=\"text-align: right;\">\n",
       "      <th></th>\n",
       "      <th>0|I walked through the door with you the air was cold But somethin bout it felt like home somehow And I left my scarf there at your sisters house And youve still got it in your drawer even now Oh your sweet disposition and my wideeyed gaze Were singin in the car getting lost upstate Autumn leaves fallin down like pieces into place And I can picture it after all these days And I know its long gone and That magics not here no more And I might be okay but Im not fine at all Oh oh oh Causе there we arе again on that little town street You almost ran the red cause you were lookin over at me Wind in my hair I was there I remember it all too well Photo album on the counter your cheeks were turnin red You used to be a little kid with glasses in a twinsized bed And your mothers tellin stories bout you on the teeball team You taught me bout your past thinkin your future was me And you were tossing me the car keys Fuck the patriarchy Keychain on the ground we were always skippin town And I was thinkin on the drive down Any time now Hes gonna say its love you never called it what it was Til we were dead and gone and buried Check the pulse and come back swearin its the same After three months in the grave And then you wondered where it went to as I reached for you But all I felt was shame and you held my lifeless frame You might also like  And I know its long gone and There was nothing else I could do And I forget about you long enough To forget why I needed to Cause there we are again in the middle of the night Were dancin round the kitchen in the refrigerator light Down the stairs I was there I remember it all too well And there we are again when nobody had to know You kept me like a secret but I kept you like an oath Sacred prayer and wed swear To remember it all too well yeah Well maybe we got lost in translation maybe I asked for too much But maybe this thing was a masterpiece til you tore it all up Runnin scared I was there I remember it all too well And you call me up again just to break me like a promise So casually cruel in the name of bein honest Im a crumpledup piece of paper lyin here Cause I remember it all all all They say alls well that ends well but Im in a new hell Every time you doublecross my mind You said if we had been closer in age maybe it wouldve been fine And that made me want to die The idea you had of me who was she A neverneedy everlovely jewel whose shine reflects on you Not weepin in a party bathroom Some actress askin me what happened you Thats what happened you You who charmed my dad with selfeffacing jokes Sippin coffee like youre on a latenight show But then he watched me watch the front door all night willin you to come And he said Its supposed to be fun turning twentyone Time wont fly its like Im paralyzed by it Id like to be my old self again but Im still tryin to find it After plaid shirt days and nights when you made me your own Now you mail back my things and I walk home alone But you keep my old scarf from that very first week Cause it reminds you of innocence and it smells like me You cant get rid of it Cause you remember it all too well yeah Cause there we are again when I loved you so Back before you lost the one real thing youve ever known It was rare I was there I remember it all too well Wind in my hair you were there You remember it all Down the stairs you were there You remember it all It was rare I was there I remember it all too well And I was never good at tellin jokes but the punch line goes Ill get older but your lovers stay my age From when your Brooklyn broke my skin and bones Im a soldier whos returning half her weight And did the twin flame bruise paint you blue Just between us did the love affair maim you too Cause in this citys barren cold I still remember the first fall of snow And how it glistened as it fell I remember it all too well Just between us did the love affair maim you all too well Just between us do you remember it all too well Just between us I remember it (Just between us) all too well Wind in my hair I was there I was there (I was there) Down the stairs I was there I was there Sacred prayer I was there I was there It was rare you remember it all too well Wind in my hair I was there I was there (Oh) Down the stairs I was there I was there (I was there) Sacred prayer I was there I was there It was rare you remember it (All too well) Wind in my hair I was there I was there Down the stairs I was there I was there Sacred prayer I was there I was there It was rare you remember it Wind in my hair I was there I was there Down the stairs I was there I was there Sacred prayer I was there I was there It was rare you remember it219</th>\n",
       "    </tr>\n",
       "  </thead>\n",
       "  <tbody>\n",
       "    <tr>\n",
       "      <th>0</th>\n",
       "      <td>0|I walked through the door with you the air w...</td>\n",
       "    </tr>\n",
       "    <tr>\n",
       "      <th>1</th>\n",
       "      <td>0|Vintage tee brand new phone High heels on co...</td>\n",
       "    </tr>\n",
       "    <tr>\n",
       "      <th>2</th>\n",
       "      <td>0|I can see you standing honey With his arms a...</td>\n",
       "    </tr>\n",
       "    <tr>\n",
       "      <th>3</th>\n",
       "      <td>0|We could leave the Christmas lights up til J...</td>\n",
       "    </tr>\n",
       "    <tr>\n",
       "      <th>4</th>\n",
       "      <td>0|Im doing good Im on some new shit Been sayin...</td>\n",
       "    </tr>\n",
       "    <tr>\n",
       "      <th>...</th>\n",
       "      <td>...</td>\n",
       "    </tr>\n",
       "    <tr>\n",
       "      <th>3008</th>\n",
       "      <td>2|Oh yeah oh yeah Oh yeah Ive been contemplati...</td>\n",
       "    </tr>\n",
       "    <tr>\n",
       "      <th>3009</th>\n",
       "      <td>2|Yeah oh oh Yeah Why you make it so complicat...</td>\n",
       "    </tr>\n",
       "    <tr>\n",
       "      <th>3010</th>\n",
       "      <td>2|Go figure You were the trigger You brought m...</td>\n",
       "    </tr>\n",
       "    <tr>\n",
       "      <th>3011</th>\n",
       "      <td>2|Yeah Yeah Uh Back up on my b— Done dealing w...</td>\n",
       "    </tr>\n",
       "    <tr>\n",
       "      <th>3012</th>\n",
       "      <td>2|(Twinkle) Little (Star) How I wonder what yo...</td>\n",
       "    </tr>\n",
       "  </tbody>\n",
       "</table>\n",
       "<p>3013 rows × 1 columns</p>\n",
       "</div>"
      ],
      "text/plain": [
       "     0|I walked through the door with you the air was cold But somethin bout it felt like home somehow And I left my scarf there at your sisters house And youve still got it in your drawer even now Oh your sweet disposition and my wideeyed gaze Were singin in the car getting lost upstate Autumn leaves fallin down like pieces into place And I can picture it after all these days And I know its long gone and That magics not here no more And I might be okay but Im not fine at all Oh oh oh Causе there we arе again on that little town street You almost ran the red cause you were lookin over at me Wind in my hair I was there I remember it all too well Photo album on the counter your cheeks were turnin red You used to be a little kid with glasses in a twinsized bed And your mothers tellin stories bout you on the teeball team You taught me bout your past thinkin your future was me And you were tossing me the car keys Fuck the patriarchy Keychain on the ground we were always skippin town And I was thinkin on the drive down Any time now Hes gonna say its love you never called it what it was Til we were dead and gone and buried Check the pulse and come back swearin its the same After three months in the grave And then you wondered where it went to as I reached for you But all I felt was shame and you held my lifeless frame You might also like  And I know its long gone and There was nothing else I could do And I forget about you long enough To forget why I needed to Cause there we are again in the middle of the night Were dancin round the kitchen in the refrigerator light Down the stairs I was there I remember it all too well And there we are again when nobody had to know You kept me like a secret but I kept you like an oath Sacred prayer and wed swear To remember it all too well yeah Well maybe we got lost in translation maybe I asked for too much But maybe this thing was a masterpiece til you tore it all up Runnin scared I was there I remember it all too well And you call me up again just to break me like a promise So casually cruel in the name of bein honest Im a crumpledup piece of paper lyin here Cause I remember it all all all They say alls well that ends well but Im in a new hell Every time you doublecross my mind You said if we had been closer in age maybe it wouldve been fine And that made me want to die The idea you had of me who was she A neverneedy everlovely jewel whose shine reflects on you Not weepin in a party bathroom Some actress askin me what happened you Thats what happened you You who charmed my dad with selfeffacing jokes Sippin coffee like youre on a latenight show But then he watched me watch the front door all night willin you to come And he said Its supposed to be fun turning twentyone Time wont fly its like Im paralyzed by it Id like to be my old self again but Im still tryin to find it After plaid shirt days and nights when you made me your own Now you mail back my things and I walk home alone But you keep my old scarf from that very first week Cause it reminds you of innocence and it smells like me You cant get rid of it Cause you remember it all too well yeah Cause there we are again when I loved you so Back before you lost the one real thing youve ever known It was rare I was there I remember it all too well Wind in my hair you were there You remember it all Down the stairs you were there You remember it all It was rare I was there I remember it all too well And I was never good at tellin jokes but the punch line goes Ill get older but your lovers stay my age From when your Brooklyn broke my skin and bones Im a soldier whos returning half her weight And did the twin flame bruise paint you blue Just between us did the love affair maim you too Cause in this citys barren cold I still remember the first fall of snow And how it glistened as it fell I remember it all too well Just between us did the love affair maim you all too well Just between us do you remember it all too well Just between us I remember it (Just between us) all too well Wind in my hair I was there I was there (I was there) Down the stairs I was there I was there Sacred prayer I was there I was there It was rare you remember it all too well Wind in my hair I was there I was there (Oh) Down the stairs I was there I was there (I was there) Sacred prayer I was there I was there It was rare you remember it (All too well) Wind in my hair I was there I was there Down the stairs I was there I was there Sacred prayer I was there I was there It was rare you remember it Wind in my hair I was there I was there Down the stairs I was there I was there Sacred prayer I was there I was there It was rare you remember it219\n",
       "0     0|I walked through the door with you the air w...                                                                                                                                                                                                                                                                                                                                                                                                                                                                                                                                                                                                                                                                                                                                                                                                                                                                                                                                                                                                                                                                                                                                                                                                                                                                                                                                                                                                                                                                                                                                                                                                                                                                                                                                                                                                                                                                                                                                                                                                                                                                                                                                                                                                                                                                                                                                                                                                                                                                                                                                                                                                                                                                                                                                                                                                                                                                                                                                                                                                                                                                                                                                                                                                                                                                                                                                                                                                                                                                                                                                                                                                                                                                                                                                                                                                                                                                                                                                                                                                                                                                                                                                                                                                                                                                                                                                                                                                                                                                                                                                                                                                                                                                                                                                                                                                          \n",
       "1     0|Vintage tee brand new phone High heels on co...                                                                                                                                                                                                                                                                                                                                                                                                                                                                                                                                                                                                                                                                                                                                                                                                                                                                                                                                                                                                                                                                                                                                                                                                                                                                                                                                                                                                                                                                                                                                                                                                                                                                                                                                                                                                                                                                                                                                                                                                                                                                                                                                                                                                                                                                                                                                                                                                                                                                                                                                                                                                                                                                                                                                                                                                                                                                                                                                                                                                                                                                                                                                                                                                                                                                                                                                                                                                                                                                                                                                                                                                                                                                                                                                                                                                                                                                                                                                                                                                                                                                                                                                                                                                                                                                                                                                                                                                                                                                                                                                                                                                                                                                                                                                                                                                          \n",
       "2     0|I can see you standing honey With his arms a...                                                                                                                                                                                                                                                                                                                                                                                                                                                                                                                                                                                                                                                                                                                                                                                                                                                                                                                                                                                                                                                                                                                                                                                                                                                                                                                                                                                                                                                                                                                                                                                                                                                                                                                                                                                                                                                                                                                                                                                                                                                                                                                                                                                                                                                                                                                                                                                                                                                                                                                                                                                                                                                                                                                                                                                                                                                                                                                                                                                                                                                                                                                                                                                                                                                                                                                                                                                                                                                                                                                                                                                                                                                                                                                                                                                                                                                                                                                                                                                                                                                                                                                                                                                                                                                                                                                                                                                                                                                                                                                                                                                                                                                                                                                                                                                                          \n",
       "3     0|We could leave the Christmas lights up til J...                                                                                                                                                                                                                                                                                                                                                                                                                                                                                                                                                                                                                                                                                                                                                                                                                                                                                                                                                                                                                                                                                                                                                                                                                                                                                                                                                                                                                                                                                                                                                                                                                                                                                                                                                                                                                                                                                                                                                                                                                                                                                                                                                                                                                                                                                                                                                                                                                                                                                                                                                                                                                                                                                                                                                                                                                                                                                                                                                                                                                                                                                                                                                                                                                                                                                                                                                                                                                                                                                                                                                                                                                                                                                                                                                                                                                                                                                                                                                                                                                                                                                                                                                                                                                                                                                                                                                                                                                                                                                                                                                                                                                                                                                                                                                                                                          \n",
       "4     0|Im doing good Im on some new shit Been sayin...                                                                                                                                                                                                                                                                                                                                                                                                                                                                                                                                                                                                                                                                                                                                                                                                                                                                                                                                                                                                                                                                                                                                                                                                                                                                                                                                                                                                                                                                                                                                                                                                                                                                                                                                                                                                                                                                                                                                                                                                                                                                                                                                                                                                                                                                                                                                                                                                                                                                                                                                                                                                                                                                                                                                                                                                                                                                                                                                                                                                                                                                                                                                                                                                                                                                                                                                                                                                                                                                                                                                                                                                                                                                                                                                                                                                                                                                                                                                                                                                                                                                                                                                                                                                                                                                                                                                                                                                                                                                                                                                                                                                                                                                                                                                                                                                          \n",
       "...                                                 ...                                                                                                                                                                                                                                                                                                                                                                                                                                                                                                                                                                                                                                                                                                                                                                                                                                                                                                                                                                                                                                                                                                                                                                                                                                                                                                                                                                                                                                                                                                                                                                                                                                                                                                                                                                                                                                                                                                                                                                                                                                                                                                                                                                                                                                                                                                                                                                                                                                                                                                                                                                                                                                                                                                                                                                                                                                                                                                                                                                                                                                                                                                                                                                                                                                                                                                                                                                                                                                                                                                                                                                                                                                                                                                                                                                                                                                                                                                                                                                                                                                                                                                                                                                                                                                                                                                                                                                                                                                                                                                                                                                                                                                                                                                                                                                                                          \n",
       "3008  2|Oh yeah oh yeah Oh yeah Ive been contemplati...                                                                                                                                                                                                                                                                                                                                                                                                                                                                                                                                                                                                                                                                                                                                                                                                                                                                                                                                                                                                                                                                                                                                                                                                                                                                                                                                                                                                                                                                                                                                                                                                                                                                                                                                                                                                                                                                                                                                                                                                                                                                                                                                                                                                                                                                                                                                                                                                                                                                                                                                                                                                                                                                                                                                                                                                                                                                                                                                                                                                                                                                                                                                                                                                                                                                                                                                                                                                                                                                                                                                                                                                                                                                                                                                                                                                                                                                                                                                                                                                                                                                                                                                                                                                                                                                                                                                                                                                                                                                                                                                                                                                                                                                                                                                                                                                          \n",
       "3009  2|Yeah oh oh Yeah Why you make it so complicat...                                                                                                                                                                                                                                                                                                                                                                                                                                                                                                                                                                                                                                                                                                                                                                                                                                                                                                                                                                                                                                                                                                                                                                                                                                                                                                                                                                                                                                                                                                                                                                                                                                                                                                                                                                                                                                                                                                                                                                                                                                                                                                                                                                                                                                                                                                                                                                                                                                                                                                                                                                                                                                                                                                                                                                                                                                                                                                                                                                                                                                                                                                                                                                                                                                                                                                                                                                                                                                                                                                                                                                                                                                                                                                                                                                                                                                                                                                                                                                                                                                                                                                                                                                                                                                                                                                                                                                                                                                                                                                                                                                                                                                                                                                                                                                                                          \n",
       "3010  2|Go figure You were the trigger You brought m...                                                                                                                                                                                                                                                                                                                                                                                                                                                                                                                                                                                                                                                                                                                                                                                                                                                                                                                                                                                                                                                                                                                                                                                                                                                                                                                                                                                                                                                                                                                                                                                                                                                                                                                                                                                                                                                                                                                                                                                                                                                                                                                                                                                                                                                                                                                                                                                                                                                                                                                                                                                                                                                                                                                                                                                                                                                                                                                                                                                                                                                                                                                                                                                                                                                                                                                                                                                                                                                                                                                                                                                                                                                                                                                                                                                                                                                                                                                                                                                                                                                                                                                                                                                                                                                                                                                                                                                                                                                                                                                                                                                                                                                                                                                                                                                                          \n",
       "3011  2|Yeah Yeah Uh Back up on my b— Done dealing w...                                                                                                                                                                                                                                                                                                                                                                                                                                                                                                                                                                                                                                                                                                                                                                                                                                                                                                                                                                                                                                                                                                                                                                                                                                                                                                                                                                                                                                                                                                                                                                                                                                                                                                                                                                                                                                                                                                                                                                                                                                                                                                                                                                                                                                                                                                                                                                                                                                                                                                                                                                                                                                                                                                                                                                                                                                                                                                                                                                                                                                                                                                                                                                                                                                                                                                                                                                                                                                                                                                                                                                                                                                                                                                                                                                                                                                                                                                                                                                                                                                                                                                                                                                                                                                                                                                                                                                                                                                                                                                                                                                                                                                                                                                                                                                                                          \n",
       "3012  2|(Twinkle) Little (Star) How I wonder what yo...                                                                                                                                                                                                                                                                                                                                                                                                                                                                                                                                                                                                                                                                                                                                                                                                                                                                                                                                                                                                                                                                                                                                                                                                                                                                                                                                                                                                                                                                                                                                                                                                                                                                                                                                                                                                                                                                                                                                                                                                                                                                                                                                                                                                                                                                                                                                                                                                                                                                                                                                                                                                                                                                                                                                                                                                                                                                                                                                                                                                                                                                                                                                                                                                                                                                                                                                                                                                                                                                                                                                                                                                                                                                                                                                                                                                                                                                                                                                                                                                                                                                                                                                                                                                                                                                                                                                                                                                                                                                                                                                                                                                                                                                                                                                                                                                          \n",
       "\n",
       "[3013 rows x 1 columns]"
      ]
     },
     "execution_count": 16,
     "metadata": {},
     "output_type": "execute_result"
    }
   ],
   "source": [
    "# https://huggingface.co/datasets/Veucci/lyric-to-3genre\n",
    "train_dataset = pd.read_csv(\"data_3genre.csv\")\n",
    "train_dataset"
   ]
  },
  {
   "cell_type": "markdown",
   "id": "e6d9246f-0711-4bb1-bd55-494d63984196",
   "metadata": {},
   "source": [
    "#### 데이터를 레이블과 가사로 나누고 가사의 불필요한 요소를 제거합니다."
   ]
  },
  {
   "cell_type": "code",
   "execution_count": 17,
   "id": "dfe47103-aacc-40a3-9925-da9f52b28d62",
   "metadata": {
    "tags": []
   },
   "outputs": [
    {
     "name": "stdout",
     "output_type": "stream",
     "text": [
      "3013 3013\n"
     ]
    }
   ],
   "source": [
    "lyrics_flatten = []\n",
    "labels_flatten = []\n",
    "genres = [\"pop\", \"rock\", \"hip-hop\"]\n",
    "\n",
    "for i in range(len(train_dataset)):\n",
    "    label, lyrics = str(train_dataset.iloc[i].values[0]).split(\"|\")\n",
    "    labels_flatten.append(label)\n",
    "    lyrics_flatten.append(re.sub(r'\\d+$', '', re.sub(r\"(\\u00A0|\\u1680|\\u180E|\\u2005|\\u200B|\\u202F|\\u205F|\\u3000|\\uFEFF)\", \" \", lyrics)))\n",
    "    \n",
    "print(len(lyrics_flatten), len(labels_flatten))"
   ]
  },
  {
   "cell_type": "code",
   "execution_count": 18,
   "id": "5da1fdaf-73c0-4c0f-8820-3c1371d70cb2",
   "metadata": {},
   "outputs": [
    {
     "data": {
      "text/plain": [
       "{'0', '1', '2'}"
      ]
     },
     "execution_count": 18,
     "metadata": {},
     "output_type": "execute_result"
    }
   ],
   "source": [
    "set(labels_flatten)"
   ]
  },
  {
   "cell_type": "markdown",
   "id": "71f5f33f-46da-4ca0-be11-091e30550b69",
   "metadata": {},
   "source": [
    "# 모델 학습"
   ]
  },
  {
   "cell_type": "code",
   "execution_count": 19,
   "id": "4afe1cd7-ddff-4087-bb73-991d77030043",
   "metadata": {},
   "outputs": [],
   "source": [
    "lyrics_train, lyrics_test, labels_train, labels_test = train_test_split(lyrics_flatten, labels_flatten, test_size=0.1, shuffle=True, random_state=34)"
   ]
  },
  {
   "cell_type": "code",
   "execution_count": 20,
   "id": "c219dd8d-88af-41e5-aeb5-72c976a82fe7",
   "metadata": {},
   "outputs": [
    {
     "name": "stdout",
     "output_type": "stream",
     "text": [
      "cuda\n"
     ]
    }
   ],
   "source": [
    "if torch.cuda.is_available():\n",
    "    device = torch.device('cuda')\n",
    "else:\n",
    "    device = torch.device('cpu')\n",
    "print(device)"
   ]
  },
  {
   "cell_type": "code",
   "execution_count": 21,
   "id": "5d5e6228-d4e8-4713-8c18-b4a90cd98663",
   "metadata": {
    "tags": []
   },
   "outputs": [
    {
     "name": "stdout",
     "output_type": "stream",
     "text": [
      "사전 학습된 모델 불러오기 성공\n"
     ]
    }
   ],
   "source": [
    "pre = \"bert-base-cased\"\n",
    "\n",
    "# pre-trained word embedding을 불러옵니다.\n",
    "tokenizer_english = BertTokenizer.from_pretrained(pre)\n",
    "\n",
    "# 레이블 값들을 숫자로 변환합니다.\n",
    "label_dict_english = {label: idx for idx, label in enumerate(['0', '1', '2'])}\n",
    "label_indices_english = [label_dict_english[label] for label in labels_train]\n",
    "\n",
    "# 가사를 토큰화 하면서 모델에 맞는 입력 형식으로 변환합니다.\n",
    "encoded_lyrics = tokenizer_english.batch_encode_plus(\n",
    "    lyrics_train,\n",
    "    add_special_tokens=True,\n",
    "    padding='longest',\n",
    "    truncation=True,\n",
    "    return_attention_mask=True,\n",
    "    return_tensors='pt'\n",
    ").to(device)\n",
    "\n",
    "# 레이블 값들의 형식을 Tensor로 변환합니다.\n",
    "labels = torch.tensor(label_indices_english)\n",
    "\n",
    "# 기존 학습한 모델이 있다면 해당 모델을, 아니라면 위에서 지정한 BERT 모델을 불러옵니다.\n",
    "model_path = \"lyrics_english_model.pt\"\n",
    "if path.exists(os.getcwd() + \"\\\\\" + model_path):\n",
    "    model_english = BertForSequenceClassification.from_pretrained(\"./\" + model_path, num_labels=len(label_dict_english))\n",
    "    model_english.to(device)\n",
    "    print(\"사전 학습된 모델 불러오기 성공\")\n",
    "else:\n",
    "    model_english = BertForSequenceClassification.from_pretrained(pre, num_labels=len(label_dict_english))\n",
    "    model_english.to(device)\n",
    "\n",
    "    # 훈련 모드 설정\n",
    "    model_english.train()\n",
    "\n",
    "    # 옵티마이저 설정\n",
    "    optimizer = torch.optim.AdamW(model_english.parameters(), lr=2e-5)\n",
    "\n",
    "    # 훈련\n",
    "    epochs = 24\n",
    "    batch_size = 8\n",
    "\n",
    "    loss_arr = []\n",
    "    \n",
    "    for epoch in range(epochs):\n",
    "        total_loss = 0\n",
    "        print(\"epochs:\", epoch+1, \"시작\")\n",
    "        for i in range(0, len(encoded_lyrics['input_ids']), batch_size):\n",
    "            input_batch = encoded_lyrics['input_ids'][i:i+batch_size].to(device)\n",
    "            label_batch = labels[i:i+batch_size].to(device)\n",
    "            attention_mask = encoded_lyrics['attention_mask'][i:i+batch_size]\n",
    "\n",
    "            optimizer.zero_grad()\n",
    "\n",
    "            outputs = model_english(input_batch, labels=label_batch, token_type_ids=None, attention_mask=attention_mask)\n",
    "\n",
    "            loss = outputs.loss\n",
    "            total_loss += loss.item()\n",
    "\n",
    "            loss.backward()\n",
    "            torch.nn.utils.clip_grad_norm_(model_english.parameters(), 1.0)\n",
    "            optimizer.step()\n",
    "\n",
    "        avg_loss = total_loss / len(encoded_lyrics['input_ids'])\n",
    "        loss_arr.append(avg_loss)\n",
    "        print(f'Epoch {epoch + 1} - Loss: {avg_loss}', datetime.now().strftime(\"%H:%M:%S\"))\n",
    "    plt.plot(loss_arr)\n",
    "    plt.show()\n",
    "\n",
    "    # 모델 저장\n",
    "    model_english.save_pretrained(model_path)"
   ]
  },
  {
   "cell_type": "code",
   "execution_count": 22,
   "id": "46017709-ec4e-4a02-8333-4e5075457d35",
   "metadata": {
    "tags": []
   },
   "outputs": [
    {
     "name": "stderr",
     "output_type": "stream",
     "text": [
      "Token indices sequence length is longer than the specified maximum sequence length for this model (1136 > 512). Running this sequence through the model will result in indexing errors\n"
     ]
    },
    {
     "name": "stdout",
     "output_type": "stream",
     "text": [
      "정확도 86.1%\n"
     ]
    }
   ],
   "source": [
    "accur_sum = 0\n",
    "for lyric, label in zip(lyrics_test, labels_test):\n",
    "    # 테스트 가사를 토큰화 하면서 모델에 맞는 입력 형식으로 변환합니다.\n",
    "    test_input_ids =  torch.tensor(tokenizer_english.batch_encode_plus([lyric])['input_ids']).to(device)\n",
    "\n",
    "    # 평가 모드 설정\n",
    "    model_english.eval()\n",
    "\n",
    "    # 예측\n",
    "    with torch.no_grad():\n",
    "        output = model_english(test_input_ids[:, :512])\n",
    "\n",
    "    # 결과의 최대값으로 인덱스 예측\n",
    "    predicted_genre_english_index = torch.argmax(output['logits'], dim=1).item()\n",
    "    predicted_genre_english = {idx: genre for genre, idx in label_dict_english.items()}[predicted_genre_english_index]\n",
    "    if predicted_genre_english == label:\n",
    "        accur_sum += 1\n",
    "print(\"정확도 {:.1f}%\".format((accur_sum/len(lyrics_test))*100))"
   ]
  },
  {
   "cell_type": "markdown",
   "id": "98a00c0f-7e7e-41c7-9786-da821dc52b05",
   "metadata": {},
   "source": [
    "# 테스트 입력 (자유롭게 입력해보세요)\n",
    "#### 이 부분만 실행하시면 됩니다."
   ]
  },
  {
   "cell_type": "code",
   "execution_count": 2,
   "id": "e8b01d68-5e6a-4f86-b7f4-6c1cb0315364",
   "metadata": {},
   "outputs": [
    {
     "name": "stdout",
     "output_type": "stream",
     "text": [
      "\n",
      "입력\n"
     ]
    },
    {
     "name": "stdin",
     "output_type": "stream",
     "text": [
      " 밤은 다시 길고 깊어졌네 나는 점점 너로 잠 못 들게 돼 글로 적어내긴 어려운 이 기분을 너도 느꼈으면 좋겠는데 너는 아무 생각 없이 몇 번 나를 지나가며 웃은 거라지만 나의 하얀 옷에 너의 잉크가 묻어 닦아낼 수 없을 만큼 번졌네\n"
     ]
    },
    {
     "name": "stdout",
     "output_type": "stream",
     "text": [
      "한국어 모델 | 입력한 문장의 예측된 장르: 포크/어쿠스틱\n",
      "  영어 모델 | 입력한 문장의 예측된 장르: 락\n",
      "\n",
      "입력\n"
     ]
    },
    {
     "name": "stdin",
     "output_type": "stream",
     "text": [
      " --end\n"
     ]
    }
   ],
   "source": [
    "import torch\n",
    "import numpy as np\n",
    "from transformers import BertTokenizer, BertForSequenceClassification\n",
    "from transformers import AutoTokenizer, AutoModel\n",
    "np.random.seed(42)\n",
    "\n",
    "if torch.cuda.is_available():\n",
    "    device = torch.device('cuda')\n",
    "else:\n",
    "    device = torch.device('cpu')\n",
    "\n",
    "# 모델 불러오기\n",
    "tokenizer_korean = AutoTokenizer.from_pretrained(\"beomi/kcbert-base\")\n",
    "tokenizer_english = BertTokenizer.from_pretrained(\"bert-base-cased\")\n",
    "\n",
    "model_korean = BertForSequenceClassification.from_pretrained(\"./lyrics_korean_model.pt\")\n",
    "model_korean.to(device)\n",
    "\n",
    "model_english = BertForSequenceClassification.from_pretrained(\"./lyrics_english_model.pt\")\n",
    "model_english.to(device)\n",
    "\n",
    "# 모델 예측 결과 테스트\n",
    "genres_model_korean = [\"ballad\", \"dance\", \"folk\", \"idol\", \"rnh\", \"rns\", \"elec\", \"rock\", \"adultkpop\"]\n",
    "genres_english = [\"팝\", \"락\", \"힙합\"]\n",
    "genres_korean = [\"발라드\", \"댄스/팝\", \"포크/어쿠스틱\", \"아이돌\", \"랩/힙합\", \"알앤비/소울\", \"일렉트로닉\", \"락/메탈\", \"성인가요\"]\n",
    "\n",
    "while True:\n",
    "    # 사용자로부터 문장을 입력 받아옴\n",
    "    print(\"\\n입력\")\n",
    "    text=input()\n",
    "    if text == \"--end\":\n",
    "        break\n",
    "\n",
    "    # 입력된 문장을 모델에 맞는 입력 형식으로 변환하고 Tensor로 변환\n",
    "    test_input_ids_korean =  torch.tensor(tokenizer_korean.batch_encode_plus([text])['input_ids']).to(device)\n",
    "    test_input_ids_english =  torch.tensor(tokenizer_english.batch_encode_plus([text])['input_ids']).to(device)\n",
    "    \n",
    "    # 평가 모드 설정\n",
    "    model_korean.eval()\n",
    "    model_english.eval()\n",
    "\n",
    "    # 예측\n",
    "    with torch.no_grad():\n",
    "        output_korean = model_korean(test_input_ids_korean[:, :300])\n",
    "        output_english = model_english(test_input_ids_english[:, :300])\n",
    "    \n",
    "    # 결과의 최대값으로 인덱스 예측\n",
    "    predicted_genre_korean_index = torch.argmax(output_korean['logits'], dim=1).item()\n",
    "    predicted_genre_korean = genres_korean[predicted_genre_korean_index]\n",
    "    predicted_genre_english_index = torch.argmax(output_english['logits'], dim=1).item()\n",
    "    predicted_genre_english = genres_english[predicted_genre_english_index]\n",
    "    print(\"한국어 모델 | 입력한 문장의 예측된 장르:\", predicted_genre_korean)\n",
    "    print(\"  영어 모델 | 입력한 문장의 예측된 장르:\", predicted_genre_english)"
   ]
  },
  {
   "cell_type": "markdown",
   "id": "9a9182e4-4bb9-49e6-adbc-c3d3159d81b9",
   "metadata": {
    "tags": []
   },
   "source": [
    "## 봐주셔서 감사합니다"
   ]
  }
 ],
 "metadata": {
  "kernelspec": {
   "display_name": "Python 3 (ipykernel)",
   "language": "python",
   "name": "python3"
  },
  "language_info": {
   "codemirror_mode": {
    "name": "ipython",
    "version": 3
   },
   "file_extension": ".py",
   "mimetype": "text/x-python",
   "name": "python",
   "nbconvert_exporter": "python",
   "pygments_lexer": "ipython3",
   "version": "3.9.7"
  }
 },
 "nbformat": 4,
 "nbformat_minor": 5
}
